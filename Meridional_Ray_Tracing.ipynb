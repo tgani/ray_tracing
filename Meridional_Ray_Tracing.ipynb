{
 "cells": [
  {
   "cell_type": "markdown",
   "metadata": {},
   "source": [
    "# Meridional Ray Tracing using the (Q, U) method (Kingslake, Ch. 2)\n",
    "\n",
    "This notebook implements the ray tracing equations on Kinglake Ch 2, pg26. The meanings of the various variables are as follows:\n",
    "\n",
    "|Name|Description|\n",
    "|----|-----------|\n",
    "| R  | Radii of surfaces |\n",
    "| c  | Curvatures (1/R) of surfaces |\n",
    "| d  | Thicknesses of elements, i.e, distances between surfaces|\n",
    "| n  | Refractive indices: n_k is the left medium, n_{k+1} the right medium, with surface in betweeen|\n",
    "| Q  | The perpendicular distance from surface vertex to ray being traced|\n",
    "| I  | Angle of incidence |\n",
    "| U  | Angle of ray with optical axis|\n",
    "\n",
    "Primed quantities are after refraction and are stored in underscored_ variables. Angles are measured positive if clockwise to normal and negative otherwise. Radii are positive to right of surface and negative to left. \n",
    "\n",
    "The ray tracing equations are:\n",
    "\n",
    "* sin I = Qc - sin U\n",
    "* sin I' = (n/n') * sin I\n",
    "* U' = U + I - I'\n",
    "* Q' = (sin U' + sin I') / c\n",
    "\n",
    "Alternately\n",
    "\n",
    "* Q' = Q * (cos U' + cos I') / (cos U + cos I)\n",
    "\n",
    "Transfer:\n",
    "\n",
    "* Q2' = Q1' - d * sin U1'\n",
    "\n",
    "\n",
    "\n",
    "**Warning:** This code is not hardened against division by zero as can happen for paraxial rays (Q[0]=0)\n"
   ]
  },
  {
   "cell_type": "code",
   "execution_count": 3,
   "metadata": {},
   "outputs": [],
   "source": [
    "from math import sin, asin, sqrt, cos, pi\n",
    "Blue=486.1\n",
    "Green=546.1\n",
    "Red=656.3"
   ]
  },
  {
   "cell_type": "code",
   "execution_count": 4,
   "metadata": {},
   "outputs": [],
   "source": [
    "def r2d(x):\n",
    "    return 180/pi*x\n"
   ]
  },
  {
   "cell_type": "code",
   "execution_count": 25,
   "metadata": {},
   "outputs": [],
   "source": [
    "# Sellmeier cofficients table\n",
    "Sellmeier_coeffs = {\n",
    "    'AIR' : ([0.0], [0.0]),\n",
    "    'BK7' : ([1.03961212, 0.231792344, 1.01046945], [0.00600069867, 0.0200179144, 103.560653]),\n",
    "    'F2' : ([1.34533359, 0.209073176, 0.937357162], [0.00997743871, 0.0470450767, 111.886764]),\n",
    "    'CAF2': ([0.437387571, 0.449211397, 0.152068715, 13.0020420], [0.00173799328, 0.00782718648, 0.0124086125, 4039.76541]),\n",
    "    'N-ZK7': ([1.07715032, 0.168079109, 0.851889892], [0.00676601657, 0.0230642817, 89.0498778]),\n",
    "    'KZFSN4': ([1.37994218, 0.168496708, 0.874885726], [0.00891159699, 0.040533407, 69.6628237]),\n",
    "    'SK55': ([1.15265225, 4.32145290e-001, 1.03215169e+000], [5.82679114e-003, 1.90244615e-002, 8.81750460e+001]),\n",
    "    'N-BAF4': ([1.42056328e+000,1.02721269e-001,1.14380976e+000], [9.42015382e-003,5.31087291e-002,1.10278856e+002]),\n",
    "    'SF12' : ([1.39867348e+000, 2.38403762e-001, 1.03604466e+000], [1.03415646e-002, 4.92696913e-002, 1.18327782e+002])\n",
    "}\n",
    "\n",
    "# Ohara's coefficient table which uses a different formula.\n",
    "OHARA_coeffs = {\n",
    "    'O-FPL51': [2.2184385, -0.0059347504, 0.0080764899, 0.00016581036, -8.0553319e-06, 3.5839492e-07 ],\n",
    "    'O-FPL53': [2.0531286, -0.0043190085, 0.0062752442, -9.8512972e-6, 1.364971e-5, -8.9037944e-7]\n",
    "}\n",
    "\n",
    "def n_from_lambda_nm_OHARA(wvl, name):\n",
    "    '''\n",
    "    OHARA doesn't use Sellmeier cofficients but a power series in (wvl^2).\n",
    "    '''\n",
    "    assert name[0:2] == 'O-'\n",
    "    coeffs = OHARA_coeffs[name]\n",
    "    n = 0.0\n",
    "    wvl /= 1000.0 # The OHARA formula needs the wavelength in microns\n",
    "    # The formula goes like:\n",
    "    #   n^2 = A + B*wvl^2 + C*wvl^-2 + D*wvl^-4 + E*wvl^-6 + ...\n",
    "    wvlsq = wvl * wvl\n",
    "    n = coeffs[0] + coeffs[1] * wvlsq;\n",
    "    wvl_fac = wvlsq\n",
    "    for coeff in coeffs[2:]:\n",
    "        n += coeff / wvl_fac\n",
    "        wvl_fac *= wvlsq\n",
    "    return sqrt(n)\n",
    "\n",
    "def n_from_lambda_nm(wvl, name):\n",
    "    '''\n",
    "    Compute Refractive index computation by wavelength using the Sellmeier equation\n",
    "    n^2= 1 + Sum(B[i]*wvl^2/(wvl^2 - C[i]))\n",
    "    wvl is input in nano-meters, e.g. green is 546.0\n",
    "    If the name begins with O-, compute using OHARA coefficients\n",
    "    '''\n",
    "    assert 300 <= wvl and wvl <= 1000;\n",
    "\n",
    "    if name[0:2] == 'O-':\n",
    "        return n_from_lambda_nm_OHARA(wvl, name)\n",
    "    \n",
    "    coeffs = Sellmeier_coeffs[name]\n",
    "    B = coeffs[0]\n",
    "    C = coeffs[1]\n",
    "    assert len(B) > 0\n",
    "    assert len(B) == len(C)\n",
    "    n = 1.0;\n",
    "    wvl /= 1000.0  # The cofficients need the wavelength in microns.\n",
    "    wvlsq = wvl * wvl\n",
    "    for i in range(len(B)):\n",
    "        n += B[i] * wvlsq / (wvlsq - C[i])\n",
    "    return sqrt(n)\n",
    "    \n"
   ]
  },
  {
   "cell_type": "code",
   "execution_count": 24,
   "metadata": {},
   "outputs": [
    {
     "data": {
      "text/plain": [
       "1.624088"
      ]
     },
     "execution_count": 24,
     "metadata": {},
     "output_type": "execute_result"
    }
   ],
   "source": [
    "%precision 6\n",
    "n_from_lambda_nm(546, 'F2')"
   ]
  },
  {
   "cell_type": "code",
   "execution_count": 7,
   "metadata": {},
   "outputs": [],
   "source": [
    "def intersection_height(r1, r2, d):\n",
    "    '''Given the radii r1 and r2 of a lens with axial thickness d, compute the intersection height.\n",
    "    Return as (height, True) when defined and as (0.0, False) when not.'''\n",
    "    A = (2*r2 + d)/(2*r1 - d)\n",
    "    X2 = d/(A-1)\n",
    "    X1 = A*X2\n",
    "    YY = 2*r1*X1 - X1*X1\n",
    "    if YY >= 0.0:\n",
    "        return (sqrt(YY), True)\n",
    "    return (0.0, False)"
   ]
  },
  {
   "cell_type": "code",
   "execution_count": 8,
   "metadata": {},
   "outputs": [],
   "source": [
    "def meridional_ray_trace(wvl, R, d, medium_names, Q_init, show_vars):\n",
    "    NSurf = len(R)\n",
    "    assert NSurf + 1 == len(medium_names)\n",
    "    assert NSurf - 1 == len(d)\n",
    "    # Compute curvatures\n",
    "    c=[1/x for x in R]\n",
    "    # Find indices\n",
    "    n = [n_from_lambda_nm(wvl, medium) for medium in medium_names]\n",
    "    # Initialize all to 0\n",
    "    Q     = [0.0 for k in range(NSurf)]\n",
    "    I     = [0.0 for k in range(NSurf)]\n",
    "    I_    = [0.0 for k in range(NSurf)]\n",
    "    U     = [0.0 for k in range(NSurf)]\n",
    "    U_    = [0.0 for k in range(NSurf)]\n",
    "    Q_    = [0.0 for k in range(NSurf)]\n",
    "    Y     = [0.0 for k in range(NSurf)]\n",
    "    X     = [0.0 for k in range(NSurf)]\n",
    "    sinI  = [0.0 for k in range(NSurf)]\n",
    "    sinI_ = [0.0 for k in range(NSurf)]\n",
    "    sinU  = [0.0 for k in range(NSurf)]\n",
    "    sinU_ = [0.0 for k in range(NSurf)]\n",
    "    # Start off with first value of Q for surface 0 as Q_init; this is the height of the paraxial ray being traced\n",
    "    Q[0] = Q_init\n",
    "    for k in range(NSurf):\n",
    "        sinI[k] = Q[k]*c[k]-sin(U[k])\n",
    "        sinI_[k] = (n[k]/n[k+1])*sinI[k]\n",
    "        I_[k]= asin(sinI_[k])\n",
    "        I[k]=asin(sinI[k])\n",
    "        U_[k]=(U[k]+I[k]-I_[k])\n",
    "        sinU_[k]=sin(U_[k])\n",
    "        Q_[k]=(sinI_[k] + sinU_[k])/c[k]\n",
    "        # Point of incidence\n",
    "        Y[k] = sin(U[k] + I[k])/c[k]\n",
    "        X[k] = (1 - cos(U[k] + I[k]))/c[k]\n",
    "        if show_vars:\n",
    "            print(\"Surface #\", k)\n",
    "            print('Q = {:15.4f}'.format(Q[k]))\n",
    "            print(\"Q'= {:15.4f}\".format(Q_[k]))\n",
    "            print('I = {:15.4f}'.format(r2d(I[k])))\n",
    "            print(\"I'= {:15.4f}\".format(r2d(I_[k])))\n",
    "            print('U = {:15.4f}'.format(r2d(U[k])))\n",
    "            print(\"U'= {:15.4f}\".format(r2d(U_[k])))\n",
    "            print(\"X = {:15.4f}\".format(X[k]))\n",
    "            print(\"Y = {:15.4f}\".format(Y[k]))\n",
    "            print('')\n",
    "        # Check ray height\n",
    "        if k < NSurf - 1:\n",
    "            height, intersection_defined = intersection_height(R[k], R[k+1], d[k])\n",
    "            if intersection_defined and Y[k] > height:\n",
    "                print('ERROR: ray trace misses lens for surface ', k, '; maximum height is ', height)\n",
    "                return\n",
    "        # Transfer\n",
    "        if k < NSurf-1:\n",
    "            Q[k+1] = Q_[k] - d[k]*sinU_[k]\n",
    "            U[k+1] = U_[k]\n",
    "    \n",
    "    bfl = Q_[NSurf-1]/sinU_[NSurf-1]\n",
    "    if show_vars:\n",
    "        print('BFL={:15.4f}'.format(bfl))\n",
    "    return bfl\n",
    "\n"
   ]
  },
  {
   "cell_type": "code",
   "execution_count": 9,
   "metadata": {},
   "outputs": [],
   "source": [
    "def chromatic_focal_shift(wvl_begin, wvl_end, R, d, media, z_height):\n",
    "    wvl = 425\n",
    "    xvals=list()\n",
    "    yvals=list()\n",
    "    while wvl < 700:\n",
    "        yvals.append(wvl)\n",
    "        xvals.append(meridional_ray_trace(wvl, R, d, media, z_height, False))\n",
    "        wvl += 5\n",
    "    plt.plot(xvals, yvals)"
   ]
  },
  {
   "cell_type": "code",
   "execution_count": 10,
   "metadata": {},
   "outputs": [],
   "source": [
    "def color_curves(R, d, media):\n",
    "    z_height = 0.01  # Can't be 0 as equations break down\n",
    "    yvals=list()\n",
    "    xvals_blue_focus=list()\n",
    "    xvals_green_focus=list()\n",
    "    xvals_red_focus=list()\n",
    "    while z_height <= 100.0:\n",
    "        yvals.append(z_height)\n",
    "        xvals_blue_focus.append(meridional_ray_trace(Blue, R, d, media, z_height, False))\n",
    "        xvals_green_focus.append(meridional_ray_trace(Green, R, d, media, z_height, False))\n",
    "        xvals_red_focus.append(meridional_ray_trace(Red, R, d, media, z_height, False))\n",
    "        z_height += 2\n",
    "    plt.plot(xvals_blue_focus, yvals, color='blue')\n",
    "    plt.plot(xvals_green_focus, yvals, color='green')\n",
    "    plt.plot(xvals_red_focus, yvals, color='red')"
   ]
  },
  {
   "cell_type": "markdown",
   "metadata": {},
   "source": [
    "### Example from Kingslake Ch 2, pg 28\n",
    "BK7 was used for the unnamed glass with index 1.517 and SF12 for that with index 1.649. The result is very close to that given by Kingslake, 11.293. If exact indices are used in the computation, we get the answer given by Kingslake."
   ]
  },
  {
   "cell_type": "code",
   "execution_count": 26,
   "metadata": {},
   "outputs": [
    {
     "name": "stdout",
     "output_type": "stream",
     "text": [
      "Surface # 0\n",
      "Q =          2.0000\n",
      "Q'=          2.0171\n",
      "I =         15.7032\n",
      "I'=         10.2656\n",
      "U =          0.0000\n",
      "U'=          5.4376\n",
      "X =          0.2758\n",
      "Y =          2.0000\n",
      "\n",
      "Surface # 1\n",
      "Q =          1.9176\n",
      "Q'=          1.9400\n",
      "I =        -27.7151\n",
      "I'=        -25.2986\n",
      "U =          5.4376\n",
      "U'=          3.0210\n",
      "X =         -0.3865\n",
      "Y =          1.9631\n",
      "\n",
      "Surface # 2\n",
      "Q =          1.9189\n",
      "Q'=          1.8815\n",
      "I =         -9.8454\n",
      "I'=        -16.4167\n",
      "U =          3.0210\n",
      "U'=          9.5924\n",
      "X =         -0.1149\n",
      "Y =          1.9277\n",
      "\n",
      "BFL=        11.2913\n"
     ]
    },
    {
     "data": {
      "text/plain": [
       "11.2913"
      ]
     },
     "execution_count": 26,
     "metadata": {},
     "output_type": "execute_result"
    }
   ],
   "source": [
    "%precision 4\n",
    "R=[7.3895,-5.1784,-16.2225]\n",
    "d=[1.05,0.40]\n",
    "media=['AIR', 'BK7', 'SF12', 'AIR']\n",
    "meridional_ray_trace(546, R, d, media, 2.0, True)"
   ]
  },
  {
   "cell_type": "markdown",
   "metadata": {},
   "source": [
    "### 200mm f/15 airspaced achromat"
   ]
  },
  {
   "cell_type": "code",
   "execution_count": 12,
   "metadata": {},
   "outputs": [
    {
     "name": "stdout",
     "output_type": "stream",
     "text": [
      "Surface # 0\n",
      "Q =        100.0000\n",
      "Q'=        100.0373\n",
      "I =          3.2971\n",
      "I'=          2.1703\n",
      "U =          0.0000\n",
      "U'=          1.1268\n",
      "X =          2.8781\n",
      "Y =        100.0000\n",
      "\n",
      "Surface # 1\n",
      "Q =         99.5456\n",
      "Q'=         98.9873\n",
      "I =         -6.4379\n",
      "I'=         -9.8046\n",
      "U =          1.1268\n",
      "U'=          4.4935\n",
      "X =         -4.6221\n",
      "Y =         99.6558\n",
      "\n",
      "Surface # 2\n",
      "Q =         98.2017\n",
      "Q'=         98.7966\n",
      "I =         -9.7621\n",
      "I'=         -5.9927\n",
      "U =          4.4935\n",
      "U'=          0.7241\n",
      "X =         -4.5486\n",
      "Y =         98.8620\n",
      "\n",
      "Surface # 3\n",
      "Q =         98.5817\n",
      "Q'=         98.5139\n",
      "I =         -1.8990\n",
      "I'=         -3.0851\n",
      "U =          0.7241\n",
      "U'=          1.9102\n",
      "X =         -1.0110\n",
      "Y =         98.6024\n",
      "\n",
      "BFL=      2955.4201\n"
     ]
    },
    {
     "data": {
      "text/plain": [
       "14.7771"
      ]
     },
     "execution_count": 12,
     "metadata": {},
     "output_type": "execute_result"
    }
   ],
   "source": [
    "# 200mm f/15 BK7/F2 airspaced achromat\n",
    "R=[1738.701, -1076.634, -1076.634, -4808.732]\n",
    "d=[25, 10.02772, 17]\n",
    "media=['AIR', 'BK7', 'AIR', 'F2', 'AIR']\n",
    "meridional_ray_trace(546, R, d, media, 100, True)/200"
   ]
  },
  {
   "cell_type": "markdown",
   "metadata": {},
   "source": [
    "### Plotting longitudinal spherical aberration\n",
    "We can use the above function to plot the computed back-focal length against ray height. From the plot, the lens is well corrected for +/- 2.0 ray height and then rapidly deteriorates after this aperture."
   ]
  },
  {
   "cell_type": "code",
   "execution_count": 13,
   "metadata": {
    "scrolled": true
   },
   "outputs": [
    {
     "data": {
      "text/plain": [
       "[<matplotlib.lines.Line2D at 0x7f15ad3c5350>]"
      ]
     },
     "execution_count": 13,
     "metadata": {},
     "output_type": "execute_result"
    },
    {
     "data": {
      "image/png": "[encoded data removed]",
      "text/plain": [
       "<Figure size 432x288 with 1 Axes>"
      ]
     },
     "metadata": {
      "needs_background": "light"
     },
     "output_type": "display_data"
    }
   ],
   "source": [
    "%matplotlib inline\n",
    "import matplotlib.pyplot as plt\n",
    "\n",
    "ray_height = -100\n",
    "xvals=list()\n",
    "yvals=list()\n",
    "while ray_height <= 100:\n",
    "    xvals.append(ray_height)\n",
    "    yvals.append(meridional_ray_trace(546, R, d, media, ray_height, False))\n",
    "    ray_height += 0.05\n",
    "    \n",
    "plt.plot(xvals, yvals)\n"
   ]
  },
  {
   "cell_type": "markdown",
   "metadata": {},
   "source": [
    "### The chromatic focal shift and color curves for the 200mm f/15 achromatic doublet"
   ]
  },
  {
   "cell_type": "code",
   "execution_count": 14,
   "metadata": {},
   "outputs": [
    {
     "data": {
      "image/png": "[encoded data removed]",
      "text/plain": [
       "<Figure size 432x288 with 1 Axes>"
      ]
     },
     "metadata": {
      "needs_background": "light"
     },
     "output_type": "display_data"
    }
   ],
   "source": [
    "chromatic_focal_shift(486, 656, R, d, media, 70.7)"
   ]
  },
  {
   "cell_type": "code",
   "execution_count": 15,
   "metadata": {},
   "outputs": [
    {
     "data": {
      "image/png": "[encoded data removed]",
      "text/plain": [
       "<Figure size 432x288 with 1 Axes>"
      ]
     },
     "metadata": {
      "needs_background": "light"
     },
     "output_type": "display_data"
    }
   ],
   "source": [
    "color_curves(R, d, media)"
   ]
  },
  {
   "cell_type": "markdown",
   "metadata": {},
   "source": [
    "### The chromatic focal shift curve for an 200mm f/15 apochromatic doublet"
   ]
  },
  {
   "cell_type": "code",
   "execution_count": 16,
   "metadata": {},
   "outputs": [
    {
     "data": {
      "image/png": "[encoded data removed]",
      "text/plain": [
       "<Figure size 432x288 with 1 Axes>"
      ]
     },
     "metadata": {
      "needs_background": "light"
     },
     "output_type": "display_data"
    }
   ],
   "source": [
    "R=[1383.366, 513.2866, 513.2866, -4808.375]\n",
    "d=[20, 18.10669, 30]\n",
    "media=['AIR', 'N-ZK7', 'AIR', 'O-FPL53', 'AIR']\n",
    "chromatic_focal_shift(400, 700, R, d, media, 80)"
   ]
  },
  {
   "cell_type": "markdown",
   "metadata": {},
   "source": [
    "### Color curves for the f/15 apochromat"
   ]
  },
  {
   "cell_type": "code",
   "execution_count": 17,
   "metadata": {},
   "outputs": [
    {
     "data": {
      "text/plain": [
       "[<matplotlib.lines.Line2D at 0x7f157ddefe10>]"
      ]
     },
     "execution_count": 17,
     "metadata": {},
     "output_type": "execute_result"
    },
    {
     "data": {
      "image/png": "[encoded data removed]",
      "text/plain": [
       "<Figure size 432x288 with 1 Axes>"
      ]
     },
     "metadata": {
      "needs_background": "light"
     },
     "output_type": "display_data"
    }
   ],
   "source": [
    "\n",
    "R=[1383.366, 513.2866, 513.2866, -4808.375]\n",
    "d=[20, 18.10669, 30]\n",
    "media=['AIR', 'N-ZK7', 'AIR', 'O-FPL53', 'AIR']\n",
    "z_height = 0.01  # Can't be 0 as equations break down\n",
    "yvals=list()\n",
    "xvals_blue_focus=list()\n",
    "xvals_green_focus=list()\n",
    "xvals_red_focus=list()\n",
    "while z_height <= 100.0:\n",
    "    yvals.append(z_height)\n",
    "    xvals_blue_focus.append(meridional_ray_trace(Blue, R, d, media, z_height, False))\n",
    "    xvals_green_focus.append(meridional_ray_trace(Green, R, d, media, z_height, False))\n",
    "    xvals_red_focus.append(meridional_ray_trace(Red, R, d, media, z_height, False))\n",
    "    z_height += 2\n",
    "plt.plot(xvals_blue_focus, yvals, color='blue')\n",
    "plt.plot(xvals_green_focus, yvals, color='green')\n",
    "plt.plot(xvals_red_focus, yvals, color='red')"
   ]
  },
  {
   "cell_type": "markdown",
   "metadata": {},
   "source": [
    "### 200mm f/8 oiled triplet - NPN, chromatic shift and color curves"
   ]
  },
  {
   "cell_type": "code",
   "execution_count": 18,
   "metadata": {},
   "outputs": [],
   "source": [
    "R=[753.6887, 434.1788, -582.5756, -2184.093]\n",
    "d=[20, 35, 20]\n",
    "media=['AIR', 'N-ZK7', 'O-FPL53', 'N-ZK7', 'AIR']"
   ]
  },
  {
   "cell_type": "code",
   "execution_count": 19,
   "metadata": {},
   "outputs": [
    {
     "data": {
      "text/plain": [
       "[<matplotlib.lines.Line2D at 0x7f15ad43b8d0>]"
      ]
     },
     "execution_count": 19,
     "metadata": {},
     "output_type": "execute_result"
    },
    {
     "data": {
      "image/png": "[encoded data removed]",
      "text/plain": [
       "<Figure size 432x288 with 1 Axes>"
      ]
     },
     "metadata": {
      "needs_background": "light"
     },
     "output_type": "display_data"
    }
   ],
   "source": [
    "wvl = 425\n",
    "xvals=list()\n",
    "yvals=list()\n",
    "while wvl < 700:\n",
    "    yvals.append(wvl)\n",
    "    xvals.append(meridional_ray_trace(wvl, R, d, media, 70.71, False))\n",
    "    wvl += 5\n",
    "plt.plot(xvals, yvals)"
   ]
  },
  {
   "cell_type": "code",
   "execution_count": 20,
   "metadata": {},
   "outputs": [
    {
     "data": {
      "text/plain": [
       "[<matplotlib.lines.Line2D at 0x7f157dd27c90>]"
      ]
     },
     "execution_count": 20,
     "metadata": {},
     "output_type": "execute_result"
    },
    {
     "data": {
      "image/png": "[encoded data removed]",
      "text/plain": [
       "<Figure size 432x288 with 1 Axes>"
      ]
     },
     "metadata": {
      "needs_background": "light"
     },
     "output_type": "display_data"
    }
   ],
   "source": [
    "z_height = 0.01  # Can't be 0 as equations break down\n",
    "yvals=list()\n",
    "xvals_blue_focus=list()\n",
    "xvals_green_focus=list()\n",
    "xvals_red_focus=list()\n",
    "while z_height <= 100.01:\n",
    "    yvals.append(z_height)\n",
    "    xvals_blue_focus.append(meridional_ray_trace(Blue, R, d, media, z_height, False))\n",
    "    xvals_green_focus.append(meridional_ray_trace(Green, R, d, media, z_height, False))\n",
    "    xvals_red_focus.append(meridional_ray_trace(Red, R, d, media, z_height, False))\n",
    "    z_height += 2\n",
    "plt.plot(xvals_blue_focus, yvals, color='blue')\n",
    "plt.plot(xvals_green_focus, yvals, color='green')\n",
    "plt.plot(xvals_red_focus, yvals, color='red')"
   ]
  },
  {
   "cell_type": "markdown",
   "metadata": {},
   "source": [
    "### 200mm f/15 Super achromatic triplet"
   ]
  },
  {
   "cell_type": "code",
   "execution_count": 21,
   "metadata": {},
   "outputs": [],
   "source": [
    "R=[1611.038, -650.8718, 367.3269, 14277.27]\n",
    "d=[27, 16, 29]\n",
    "media=['AIR', 'SK55', 'KZFSN4', 'N-BAF4', 'AIR']"
   ]
  },
  {
   "cell_type": "code",
   "execution_count": 22,
   "metadata": {},
   "outputs": [
    {
     "data": {
      "text/plain": [
       "[<matplotlib.lines.Line2D at 0x7f157dc92350>]"
      ]
     },
     "execution_count": 22,
     "metadata": {},
     "output_type": "execute_result"
    },
    {
     "data": {
      "image/png": "[encoded data removed]",
      "text/plain": [
       "<Figure size 432x288 with 1 Axes>"
      ]
     },
     "metadata": {
      "needs_background": "light"
     },
     "output_type": "display_data"
    }
   ],
   "source": [
    "wvl = 400\n",
    "xvals=list()\n",
    "yvals=list()\n",
    "while wvl < 880:\n",
    "    yvals.append(wvl)\n",
    "    xvals.append(meridional_ray_trace(wvl, R, d, media, 84, False))\n",
    "    wvl += 5\n",
    "plt.plot(xvals, yvals)"
   ]
  },
  {
   "cell_type": "code",
   "execution_count": 23,
   "metadata": {},
   "outputs": [
    {
     "data": {
      "text/plain": [
       "[<matplotlib.lines.Line2D at 0x7f157dc0b350>]"
      ]
     },
     "execution_count": 23,
     "metadata": {},
     "output_type": "execute_result"
    },
    {
     "data": {
      "image/png": "[encoded data removed]",
      "text/plain": [
       "<Figure size 432x288 with 1 Axes>"
      ]
     },
     "metadata": {
      "needs_background": "light"
     },
     "output_type": "display_data"
    }
   ],
   "source": [
    "z_height = 0.01  # Can't be 0 as equations break down\n",
    "yvals=list()\n",
    "xvals_blue_focus=list()\n",
    "xvals_green_focus=list()\n",
    "xvals_red_focus=list()\n",
    "while z_height <= 100.01:\n",
    "    yvals.append(z_height)\n",
    "    xvals_blue_focus.append(meridional_ray_trace(Blue, R, d, media, z_height, False))\n",
    "    xvals_green_focus.append(meridional_ray_trace(Green, R, d, media, z_height, False))\n",
    "    xvals_red_focus.append(meridional_ray_trace(Red, R, d, media, z_height, False))\n",
    "    z_height += 2\n",
    "plt.plot(xvals_blue_focus, yvals, color='blue')\n",
    "plt.plot(xvals_green_focus, yvals, color='green')\n",
    "plt.plot(xvals_red_focus, yvals, color='red')"
   ]
  }
 ],
 "metadata": {
  "kernelspec": {
   "display_name": "Python 3",
   "language": "python",
   "name": "python3"
  },
  "language_info": {
   "codemirror_mode": {
    "name": "ipython",
    "version": 3
   },
   "file_extension": ".py",
   "mimetype": "text/x-python",
   "name": "python",
   "nbconvert_exporter": "python",
   "pygments_lexer": "ipython3",
   "version": "3.7.7"
  }
 },
 "nbformat": 4,
 "nbformat_minor": 4
}
